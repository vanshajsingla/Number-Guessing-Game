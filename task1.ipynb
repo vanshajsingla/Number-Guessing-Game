{
 "cells": [
  {
   "cell_type": "markdown",
   "metadata": {},
   "source": [
    "                                                                 UNICOMPILER TASK 1"
   ]
  },
  {
   "cell_type": "markdown",
   "metadata": {},
   "source": [
    "Number Guessing Game !!"
   ]
  },
  {
   "cell_type": "code",
   "execution_count": 1,
   "metadata": {},
   "outputs": [
    {
     "name": "stdout",
     "output_type": "stream",
     "text": [
      " WELCOME TO NUMBER GUESSING GAME\n",
      "You have 10 chances only !!!\n",
      "Use Your chances wisely !!\n",
      "########################################################################\n",
      "You guessed too big ! Guess Again!!!\n",
      "Only 9 chances left !!\n",
      "You guessed too small ! Guess Again!!!\n",
      "Only 8 chances left !!\n",
      "You guessed too small ! Guess Again!!!\n",
      "Hint: Guess some odd number !!!\n",
      "Only 7 chances left !!\n",
      "Congratulations !!\n",
      "You have won the game \n",
      ":-)\n",
      "Your score is 70\n"
     ]
    }
   ],
   "source": [
    "import random\n",
    "import math\n",
    "chances=10\n",
    "print(\" WELCOME TO NUMBER GUESSING GAME\")\n",
    "print(\"You have \"+str(chances)+\" chances only !!!\")\n",
    "print(\"Use Your chances wisely !!\")\n",
    "print(\"########################################################################\")\n",
    "lower=int(input(\"Enter lower limit \"))\n",
    "upper=int(input(\"Enter upper limit \"))\n",
    "x=random.randint(lower,upper)\n",
    "count=0\n",
    "score =100\n",
    "while count<chances:\n",
    "    count+=1\n",
    "    guess=int(input(\"Guess the number : \"))\n",
    "    if x==guess:\n",
    "        print(\"Congratulations !!\")\n",
    "        print(\"You have won the game \")\n",
    "        print(\":-)\")\n",
    "        print(\"Your score is \"+str(score))\n",
    "        break\n",
    "    elif x>guess and x%3==0 and guess%3!=0:\n",
    "        print(\"You guessed too small ! Guess Again!!!\")\n",
    "        print(\"Hint: Number is divisible by 3 !!!\")\n",
    "    elif x<guess and x%3==0 and guess%3!=0:\n",
    "        print(\"You guessed too big ! Guess Again!!!\")\n",
    "        print(\"Hint: Number is divisible by 3 !!!\")\n",
    "    elif x>guess and x%5==0 and guess%5!=0:\n",
    "        print(\"You guessed too small ! Guess Again!!!\")\n",
    "        print(\"Hint: Number is divisible by 5 !!!\")\n",
    "    elif x<guess and x%5==0 and guess%5!=0:\n",
    "        print(\"You guessed too big ! Guess Again!!!\")\n",
    "        print(\"Hint: Number is divisible by 5 !!!\")\n",
    "    elif x>guess and x%7==0 and guess%7!=0:\n",
    "        print(\"You guessed too small ! Guess Again!!!\")\n",
    "        print(\"Hint: Number is divisible by 7 !!!\")\n",
    "    elif x<guess and x%7==0 and guess%7!=0:\n",
    "        print(\"You guessed too big ! Guess Again!!!\")\n",
    "        print(\"Hint: Number is divisible by 7 !!!\")\n",
    "    elif x>guess and x%10==0 and guess%10!=0:\n",
    "        print(\"You guessed too small ! Guess Again!!!\")\n",
    "        print(\"Hint:  Number is divisible by 10 !!!\")\n",
    "    elif x<guess and x%10==0 and guess%10!=0:\n",
    "        print(\"You guessed too big ! Guess Again!!!\")\n",
    "        print(\"Hint: Number is divisible by 10 !!!\")\n",
    "    elif x>guess and x%2==0 and guess%2!=0:\n",
    "        print(\"You guessed too small ! Guess Again!!!\")\n",
    "        print(\"Hint: Guess some even number !!!\")\n",
    "    elif x<guess and x%2==0 and guess%2!=0:\n",
    "        print(\"You guessed too big ! Guess Again!!!\")\n",
    "        print(\"Hint: Guess some even number !!!\")\n",
    "    elif x>guess and x%2==1 and guess%2!=1:\n",
    "        print(\"You guessed too small ! Guess Again!!!\")\n",
    "        print(\"Hint: Guess some odd number !!!\")\n",
    "    elif x<guess and x%2==1 and guess%2!=1:\n",
    "        print(\"You guessed too big ! Guess Again!!!\")\n",
    "        print(\"Hint: Guess some odd number !!!\")\n",
    "    elif x<guess:\n",
    "        print(\"You guessed too big ! Guess Again!!!\")\n",
    "    elif x>guess:\n",
    "        print(\"You guessed too small ! Guess Again!!!\")\n",
    "    score-=10\n",
    "    print(\"Only \"+str(chances-count)+\" chances left !!\")\n",
    "if count>=chances:\n",
    "    print(\"Better Luck Next Time !!\")\n",
    "    print(\":-( \")\n",
    "    print(\"Your score is \"+str(score))\n",
    "\n",
    "    "
   ]
  }
 ],
 "metadata": {
  "kernelspec": {
   "display_name": "Python 3.10.2 64-bit",
   "language": "python",
   "name": "python3"
  },
  "language_info": {
   "codemirror_mode": {
    "name": "ipython",
    "version": 3
   },
   "file_extension": ".py",
   "mimetype": "text/x-python",
   "name": "python",
   "nbconvert_exporter": "python",
   "pygments_lexer": "ipython3",
   "version": "3.10.2"
  },
  "orig_nbformat": 4,
  "vscode": {
   "interpreter": {
    "hash": "b72fecbc99b9e9c3fbcc802f07cbc906940a8fa7aaf830932c7123d0afe84c65"
   }
  }
 },
 "nbformat": 4,
 "nbformat_minor": 2
}
